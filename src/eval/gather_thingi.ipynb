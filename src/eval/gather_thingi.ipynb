{
 "cells": [
  {
   "cell_type": "code",
   "execution_count": 1,
   "metadata": {},
   "outputs": [],
   "source": [
    "import numpy as np\n"
   ]
  },
  {
   "cell_type": "code",
   "execution_count": 7,
   "metadata": {},
   "outputs": [],
   "source": [
    "\n",
    "fin = open(\"result_thingi.txt\",'r')\n",
    "lines = fin.readlines()\n",
    "fin.close()\n",
    "names = [e[:-2] for e in lines[::2]]\n",
    "numbers = np.array([[float(i.strip()) for i in line.split()] for line in lines[1::2]])"
   ]
  },
  {
   "cell_type": "code",
   "execution_count": 8,
   "metadata": {},
   "outputs": [
    {
     "data": {
      "text/plain": [
       "['out/direct_voromesh_32', 'out/direct_voromesh_64', 'out/direct_voromesh_128']"
      ]
     },
     "execution_count": 8,
     "metadata": {},
     "output_type": "execute_result"
    }
   ],
   "source": [
    "names"
   ]
  },
  {
   "cell_type": "code",
   "execution_count": 10,
   "metadata": {},
   "outputs": [
    {
     "name": "stdout",
     "output_type": "stream",
     "text": [
      "0.791 0.920 0.958\n",
      "0.645 0.938 0.975\n",
      "0.634 0.939 0.982\n"
     ]
    }
   ],
   "source": [
    "def print_single_line(row):\n",
    "    '''name, CD, F1, NC'''\n",
    "    print('{:.3f} {:.3f} {:.3f}'.format(row[5]*100000, row[11], row[8])) # CD\n",
    "\n",
    "# print_single_line(numbers[3]) # VoroMesh32\n",
    "print_single_line(numbers[0]) # VoroMesh64\n",
    "# print_single_line(numbers[12]) # VoroMesh128\n",
    "\n",
    "print_single_line(numbers[1])\n",
    "print_single_line(numbers[2])"
   ]
  },
  {
   "cell_type": "code",
   "execution_count": 5,
   "metadata": {},
   "outputs": [
    {
     "data": {
      "text/plain": [
       "'ours_32_NDC_norm'"
      ]
     },
     "execution_count": 5,
     "metadata": {},
     "output_type": "execute_result"
    }
   ],
   "source": [
    "names[3]"
   ]
  },
  {
   "cell_type": "code",
   "execution_count": 6,
   "metadata": {},
   "outputs": [],
   "source": [
    "# grid_n = 128\n",
    "# src  ='/data/nmaruani/models_NDC_norm/NMC{}b/'.format(grid_n)\n",
    "\n",
    "# for model_name in tqdm(os.listdir(src)):\n",
    "    # os.rename(src+model_name, src+model_name[:-4])\n",
    "    # v, f = igl.read_triangle_mesh('/data/nmaruani/models_NDC_norm/NMC{}/'.format(grid_n)+model_name)\n",
    "    # export_obj( 2*v/grid_n-1, f, '/data/nmaruani/models_NDC_norm/NMC{}b/'.format(grid_n)+model_name)\n"
   ]
  },
  {
   "cell_type": "code",
   "execution_count": 7,
   "metadata": {},
   "outputs": [
    {
     "data": {
      "text/plain": [
       "31"
      ]
     },
     "execution_count": 7,
     "metadata": {},
     "output_type": "execute_result"
    }
   ],
   "source": [
    "len(names)\n",
    "# len(numbers)"
   ]
  },
  {
   "cell_type": "code",
   "execution_count": 33,
   "metadata": {},
   "outputs": [],
   "source": [
    "rows = ['mc', 'rvd', 'dual', 'voronoinet', 'SAP', 'ours', 'NDCBASE', 'UNDC', 'NMC', 'RC', 'NDC']\n",
    "final_rows = ['Marching Cubes \\cite{lorensen1987marching}', 'rvd', 'Dual Contouring \\cite{ju2002dual}', 'VoronoiNet \\cite{williams2020voronoinet}', 'Shape As Points \\cite{peng2021shape}', 'Ours', 'NDC', 'UNDC', 'NMC', 'RC', 'NDCX']"
   ]
  },
  {
   "cell_type": "code",
   "execution_count": 34,
   "metadata": {},
   "outputs": [
    {
     "data": {
      "text/plain": [
       "(11, 11)"
      ]
     },
     "execution_count": 34,
     "metadata": {},
     "output_type": "execute_result"
    }
   ],
   "source": [
    "len(rows), len(final_rows)"
   ]
  },
  {
   "cell_type": "code",
   "execution_count": 35,
   "metadata": {},
   "outputs": [],
   "source": [
    "results = [['-' for i in range(1+3*3)] for j in range(len(rows))]"
   ]
  },
  {
   "cell_type": "code",
   "execution_count": 37,
   "metadata": {},
   "outputs": [],
   "source": [
    "for i in range(len(names)):\n",
    "    if '32' in names[i]:\n",
    "        off = 0\n",
    "    elif '64' in names[i]:\n",
    "        off = 1\n",
    "    elif '128' in names[i]:\n",
    "        off = 2\n",
    "    else:\n",
    "        continue\n",
    "\n",
    "    for j, e in enumerate(rows):\n",
    "        if e in names[i]:\n",
    "            break\n",
    "    if j==len(rows):\n",
    "        print('E')\n",
    "    # print(names[i], j)\n",
    "\n",
    "    results[j][0] = names[i]\n",
    "    results[j][off+1] = '{:.3f}'.format(numbers[i, 5]*100000) # CD\n",
    "    results[j][off+4] = '{:.3f}'.format(numbers[i, 11]) # F1\n",
    "    results[j][off+7] = '{:.3f}'.format(numbers[i, 8]) # NC\n",
    "\n",
    "\n",
    "    # if '128' in names[i]:\n",
    "    #     s = '{}:  {:.2f}  {:.2f}  {:.2f}'.format(names[i], numbers[i, 5]*100000, numbers[i, 11], numbers[i, 8])\n",
    "\n",
    "for k in range(len(rows)):\n",
    "    results[k][0] = final_rows[k]\n",
    "    #     print(s)"
   ]
  },
  {
   "cell_type": "code",
   "execution_count": 38,
   "metadata": {},
   "outputs": [
    {
     "name": "stdout",
     "output_type": "stream",
     "text": [
      "Marching Cubes \\cite{lorensen1987marching} & 10.597 & 1.194 & 0.686 & 0.586 & 0.852 & 0.932 & 0.901 & 0.951 & 0.977\\\\\n",
      "rvd & 1.046 & 0.700 & 0.644 & 0.882 & 0.935 & 0.939 & 0.953 & 0.977 & 0.987\\\\\n",
      "Dual Contouring \\cite{ju2002dual} & 5.950 & 0.813 & 0.648 & 0.758 & 0.911 & 0.937 & 0.923 & 0.961 & 0.979\\\\\n",
      "VoronoiNet \\cite{williams2020voronoinet} & 3.242 & - & - & 0.543 & - & - & 0.886 & - & -\\\\\n",
      "Shape As Points \\cite{peng2021shape} & 6.543 & 1.906 & 0.669 & 0.589 & 0.857 & 0.934 & 0.894 & 0.949 & 0.978\\\\\n",
      "Ours & 0.800 & 0.645 & 0.634 & 0.919 & 0.938 & 0.939 & 0.957 & 0.975 & 0.982\\\\\n",
      "NDC & 6.442 & 0.859 & 0.651 & 0.735 & 0.905 & 0.937 & 0.918 & 0.960 & 0.980\\\\\n",
      "UNDC & 1.965 & 0.795 & 0.647 & 0.736 & 0.907 & 0.937 & 0.920 & 0.959 & 0.980\\\\\n",
      "NMC & 5.212 & 0.779 & 0.642 & 0.796 & 0.923 & 0.938 & 0.936 & 0.969 & 0.984\\\\\n",
      "RC & 2.146 & 0.868 & 0.659 & 0.738 & 0.901 & 0.935 & 0.898 & 0.934 & 0.956\\\\\n",
      "NDCX & 6.358 & 0.851 & 0.649 & 0.745 & 0.908 & 0.937 & 0.920 & 0.961 & 0.980\\\\\n"
     ]
    }
   ],
   "source": [
    "for row in results:\n",
    "    print(' & '.join(row) + chr(92)+chr(92))"
   ]
  },
  {
   "cell_type": "code",
   "execution_count": 26,
   "metadata": {},
   "outputs": [
    {
     "data": {
      "text/plain": [
       "31"
      ]
     },
     "execution_count": 26,
     "metadata": {},
     "output_type": "execute_result"
    }
   ],
   "source": [
    "len('/data/nmaruani/models_NDC_norm/')"
   ]
  },
  {
   "cell_type": "code",
   "execution_count": 27,
   "metadata": {},
   "outputs": [
    {
     "data": {
      "text/plain": [
       "['batch_mc64_NDC_norm',\n",
       " 'dual_contouring_64_NDC_norm',\n",
       " 'GT_thingi',\n",
       " 'ours_32_NDC_norm',\n",
       " 'dual_contouring_128_NDC_norm',\n",
       " 'NDC_64_NDC_norm',\n",
       " 'batch_mc32_NDC_norm',\n",
       " 'batch_mc128_NDC_norm',\n",
       " 'dual_contouring_32_NDC_norm',\n",
       " 'ours_64_NDC_norm',\n",
       " 'NDC_128_NDC_norm',\n",
       " 'NDC_32_NDC_norm',\n",
       " 'ours_128_NDC_norm',\n",
       " 'voronoinet32',\n",
       " 'SAP_32_NDC_norm',\n",
       " 'SAP_64_NDC_norm',\n",
       " 'SAP_128_NDC_norm',\n",
       " 'NDCBASE_128',\n",
       " 'NDCBASE_32',\n",
       " 'NDCBASE_64',\n",
       " 'UNDC_128',\n",
       " 'UNDC_32',\n",
       " 'UNDC_64']"
      ]
     },
     "execution_count": 27,
     "metadata": {},
     "output_type": "execute_result"
    }
   ],
   "source": [
    "names"
   ]
  },
  {
   "cell_type": "code",
   "execution_count": 205,
   "metadata": {},
   "outputs": [
    {
     "name": "stdout",
     "output_type": "stream",
     "text": [
      "dual_contouring_128_NDC_norm:  0.65  0.94  0.98\n",
      "batch_mc128_NDC_norm:  0.69  0.93  0.98\n",
      "NDC_128_NDC_norm:  0.65  0.94  0.98\n",
      "ours_128_NDC_norm:  0.63  0.94  0.98\n"
     ]
    }
   ],
   "source": [
    "for i in range(len(names)):\n",
    "\n",
    "\n",
    "    if '128' in names[i]:\n",
    "        s = '{}:  {:.2f}  {:.2f}  {:.2f}'.format(names[i], numbers[i, 5]*100000, numbers[i, 11], numbers[i, 8])\n",
    "        print(s)"
   ]
  },
  {
   "attachments": {},
   "cell_type": "markdown",
   "metadata": {},
   "source": [
    "## Check watertigth\n"
   ]
  },
  {
   "cell_type": "code",
   "execution_count": 198,
   "metadata": {},
   "outputs": [],
   "source": [
    "import open3d as o3d\n",
    "import igl\n",
    "from tqdm import tqdm\n",
    "\n"
   ]
  },
  {
   "cell_type": "code",
   "execution_count": 239,
   "metadata": {},
   "outputs": [],
   "source": [
    "NF = 0\n",
    "def manifold_stat(pred_obj_name):\n",
    "    global NF\n",
    "    '''percentage of manifold edges, percentage of manifold vertices'''\n",
    "    v, f = igl.read_triangle_mesh(pred_obj_name)\n",
    "    if len(v)==0:\n",
    "        return \n",
    "    mesh = o3d.geometry.TriangleMesh()\n",
    "    mesh.vertices = o3d.utility.Vector3dVector(v)\n",
    "    mesh.triangles = o3d.utility.Vector3iVector(f)\n",
    "    edge_l = len(igl.edges(f))\n",
    "    if len(mesh.get_non_manifold_edges())+len(mesh.get_non_manifold_vertices())!=0:\n",
    "        print(pred_obj_name)\n",
    "        NF += 1"
   ]
  },
  {
   "attachments": {},
   "cell_type": "markdown",
   "metadata": {},
   "source": [
    "### ABC"
   ]
  },
  {
   "cell_type": "code",
   "execution_count": 200,
   "metadata": {},
   "outputs": [],
   "source": [
    "grid_size=64\n",
    "\n",
    "pred_dir = \"/home/../data/nmaruani/ABC_NMC{}/\".format(grid_size if grid_size==32 else '')\n",
    "all_models = \"../NeuralNetworks/abc_ordered.txt\"\n",
    "\n",
    "\n",
    "fin = open('../NeuralNetworks/not_watertight_test.txt', 'r')\n",
    "nw = [name.strip()[:-5] for name in fin.readlines()]\n",
    "fin.close()\n",
    "fin = open(all_models, 'r')\n",
    "obj_names = [name.strip()[:-5] for name in fin.readlines()]\n",
    "obj_names_old = obj_names[int(len(obj_names)*0.8):]\n",
    "obj_names = [e for e in obj_names_old if not( e in nw)]\n",
    "fin.close()\n"
   ]
  },
  {
   "cell_type": "code",
   "execution_count": 205,
   "metadata": {},
   "outputs": [
    {
     "data": {
      "text/plain": [
       "['batch_mc64_NDC_norm',\n",
       " 'dual_contouring_64_NDC_norm',\n",
       " 'GT_thingi',\n",
       " 'ours_32_NDC_norm',\n",
       " 'dual_contouring_128_NDC_norm',\n",
       " 'NDC_64_NDC_norm',\n",
       " 'batch_mc32_NDC_norm',\n",
       " 'batch_mc128_NDC_norm',\n",
       " 'dual_contouring_32_NDC_norm',\n",
       " 'ours_64_NDC_norm',\n",
       " 'NDC_128_NDC_norm',\n",
       " 'NDC_32_NDC_norm',\n",
       " 'ours_128_NDC_norm',\n",
       " 'voronoinet32',\n",
       " 'SAP_32_NDC_norm',\n",
       " 'SAP_64_NDC_norm',\n",
       " 'SAP_128_NDC_norm',\n",
       " 'NDCBASE_128',\n",
       " 'NDCBASE_32',\n",
       " 'NDCBASE_64',\n",
       " 'UNDC_128',\n",
       " 'UNDC_32',\n",
       " 'UNDC_64',\n",
       " 'NMC32b',\n",
       " 'NMC64b',\n",
       " 'NMC128b',\n",
       " 'Roman_thingi_128',\n",
       " 'Roman_thingi_32',\n",
       " 'Roman_thingi_64',\n",
       " 'RC_128',\n",
       " 'RC_32',\n",
       " 'RC_64',\n",
       " 'RC64.zip']"
      ]
     },
     "execution_count": 205,
     "metadata": {},
     "output_type": "execute_result"
    }
   ],
   "source": [
    "os.listdir('/home/../data/nmaruani/models_NDC_norm')"
   ]
  },
  {
   "cell_type": "code",
   "execution_count": 201,
   "metadata": {},
   "outputs": [],
   "source": [
    "\n",
    "# def manifold_stat(v, f):\n",
    "#     '''percentage of manifold edges, percentage of manifold vertices'''\n",
    "#     mesh = o3d.geometry.TriangleMesh()\n",
    "#     mesh.vertices = o3d.utility.Vector3dVector(v)\n",
    "#     mesh.triangles = o3d.utility.Vector3iVector(f)\n",
    "#     edge_l = len(igl.edges(f))\n",
    "#     return len(mesh.get_non_manifold_edges())+len(mesh.get_non_manifold_vertices())==0"
   ]
  },
  {
   "cell_type": "code",
   "execution_count": 218,
   "metadata": {},
   "outputs": [
    {
     "name": "stderr",
     "output_type": "stream",
     "text": [
      "  0%|                                                                                                                                                                       | 0/30 [00:00<?, ?it/s]Process Process-2979:\n",
      "IOError: /home/../data/nmaruani/models_NDC_norm/NDCBASE_32//test_0.obj could not be opened...\n",
      "IOError: /home/../data/nmaruani/models_NDC_norm/NDCBASE_32//test_1.obj could not be opened...\n",
      " 10%|███████████████▉                                                                                                                                               | 3/30 [00:00<00:01, 25.29it/s]Process Process-2980:\n",
      "Traceback (most recent call last):\n",
      "IOError: /home/../data/nmaruani/models_NDC_norm/NDCBASE_32//test_2.obj could not be opened...\n",
      "  File \"/user/nmaruani/home/.conda/envs/pytorch3d/lib/python3.9/multiprocessing/process.py\", line 315, in _bootstrap\n",
      "    self.run()\n",
      "  File \"/user/nmaruani/home/.conda/envs/pytorch3d/lib/python3.9/multiprocessing/process.py\", line 108, in run\n",
      "    self._target(*self._args, **self._kwargs)\n",
      "  File \"/tmp/ipykernel_2822356/2300923102.py\", line 3, in manifold_stat\n",
      "    v, f = igl.read_triangle_mesh(pred_obj_name)\n",
      "Traceback (most recent call last):\n",
      "IOError: /home/../data/nmaruani/models_NDC_norm/NDCBASE_32//test_3.obj could not be opened...\n",
      "IOError: /home/../data/nmaruani/models_NDC_norm/NDCBASE_32//test_4.obj could not be opened...\n",
      "ValueError: File '/home/../data/nmaruani/models_NDC_norm/NDCBASE_32//test_0.obj' not found.\n",
      " 20%|███████████████████████████████▊                                                                                                                               | 6/30 [00:00<00:00, 25.41it/s]IOError: /home/../data/nmaruani/models_NDC_norm/NDCBASE_32//test_5.obj could not be opened...\n",
      "  File \"/user/nmaruani/home/.conda/envs/pytorch3d/lib/python3.9/multiprocessing/process.py\", line 315, in _bootstrap\n",
      "    self.run()\n",
      "Process Process-2981:\n",
      "  File \"/user/nmaruani/home/.conda/envs/pytorch3d/lib/python3.9/multiprocessing/process.py\", line 108, in run\n",
      "    self._target(*self._args, **self._kwargs)\n",
      "  File \"/tmp/ipykernel_2822356/2300923102.py\", line 3, in manifold_stat\n",
      "    v, f = igl.read_triangle_mesh(pred_obj_name)\n",
      "ValueError: File '/home/../data/nmaruani/models_NDC_norm/NDCBASE_32//test_1.obj' not found.\n",
      "Traceback (most recent call last):\n",
      "Process Process-2982:\n",
      "  File \"/user/nmaruani/home/.conda/envs/pytorch3d/lib/python3.9/multiprocessing/process.py\", line 315, in _bootstrap\n",
      "    self.run()\n",
      "  File \"/user/nmaruani/home/.conda/envs/pytorch3d/lib/python3.9/multiprocessing/process.py\", line 108, in run\n",
      "    self._target(*self._args, **self._kwargs)\n",
      "  File \"/tmp/ipykernel_2822356/2300923102.py\", line 3, in manifold_stat\n",
      "    v, f = igl.read_triangle_mesh(pred_obj_name)\n",
      "IOError: /home/../data/nmaruani/models_NDC_norm/NDCBASE_32//test_3.obj could not be opened...\n",
      "Process Process-2983:\n",
      "IOError: /home/../data/nmaruani/models_NDC_norm/NDCBASE_32//test_6.obj could not be opened...\n",
      "IOError: /home/../data/nmaruani/models_NDC_norm/NDCBASE_32//test_7.obj could not be opened...\n",
      "Traceback (most recent call last):\n",
      "ValueError: File '/home/../data/nmaruani/models_NDC_norm/NDCBASE_32//test_2.obj' not found.\n",
      "  File \"/user/nmaruani/home/.conda/envs/pytorch3d/lib/python3.9/multiprocessing/process.py\", line 315, in _bootstrap\n",
      "    self.run()\n",
      " 30%|███████████████████████████████████████████████▋                                                                                                               | 9/30 [00:00<00:00, 25.71it/s]  File \"/user/nmaruani/home/.conda/envs/pytorch3d/lib/python3.9/multiprocessing/process.py\", line 108, in run\n",
      "    self._target(*self._args, **self._kwargs)\n",
      "  File \"/tmp/ipykernel_2822356/2300923102.py\", line 3, in manifold_stat\n",
      "    v, f = igl.read_triangle_mesh(pred_obj_name)\n",
      "Process Process-2984:\n",
      "IOError: /home/../data/nmaruani/models_NDC_norm/NDCBASE_32//test_8.obj could not be opened...\n",
      "ValueError: File '/home/../data/nmaruani/models_NDC_norm/NDCBASE_32//test_3.obj' not found.\n",
      "Traceback (most recent call last):\n",
      "Traceback (most recent call last):\n",
      "  File \"/user/nmaruani/home/.conda/envs/pytorch3d/lib/python3.9/multiprocessing/process.py\", line 315, in _bootstrap\n",
      "    self.run()\n",
      "  File \"/user/nmaruani/home/.conda/envs/pytorch3d/lib/python3.9/multiprocessing/process.py\", line 315, in _bootstrap\n",
      "    self.run()\n",
      "  File \"/user/nmaruani/home/.conda/envs/pytorch3d/lib/python3.9/multiprocessing/process.py\", line 108, in run\n",
      "    self._target(*self._args, **self._kwargs)\n",
      "  File \"/user/nmaruani/home/.conda/envs/pytorch3d/lib/python3.9/multiprocessing/process.py\", line 108, in run\n",
      "    self._target(*self._args, **self._kwargs)\n",
      "  File \"/tmp/ipykernel_2822356/2300923102.py\", line 3, in manifold_stat\n",
      "    v, f = igl.read_triangle_mesh(pred_obj_name)\n",
      "Process Process-2985:\n",
      "  File \"/tmp/ipykernel_2822356/2300923102.py\", line 3, in manifold_stat\n",
      "    v, f = igl.read_triangle_mesh(pred_obj_name)\n",
      "ValueError: File '/home/../data/nmaruani/models_NDC_norm/NDCBASE_32//test_5.obj' not found.\n",
      "ValueError: File '/home/../data/nmaruani/models_NDC_norm/NDCBASE_32//test_4.obj' not found.\n",
      "IOError: /home/../data/nmaruani/models_NDC_norm/NDCBASE_32//test_9.obj could not be opened...\n",
      "Process Process-2986:\n",
      "Traceback (most recent call last):\n",
      "Traceback (most recent call last):\n",
      "  File \"/user/nmaruani/home/.conda/envs/pytorch3d/lib/python3.9/multiprocessing/process.py\", line 315, in _bootstrap\n",
      "    self.run()\n",
      "  File \"/user/nmaruani/home/.conda/envs/pytorch3d/lib/python3.9/multiprocessing/process.py\", line 315, in _bootstrap\n",
      "    self.run()\n",
      "  File \"/user/nmaruani/home/.conda/envs/pytorch3d/lib/python3.9/multiprocessing/process.py\", line 108, in run\n",
      "    self._target(*self._args, **self._kwargs)\n",
      "  File \"/user/nmaruani/home/.conda/envs/pytorch3d/lib/python3.9/multiprocessing/process.py\", line 108, in run\n",
      "    self._target(*self._args, **self._kwargs)\n",
      "  File \"/tmp/ipykernel_2822356/2300923102.py\", line 3, in manifold_stat\n",
      "    v, f = igl.read_triangle_mesh(pred_obj_name)\n",
      "IOError: /home/../data/nmaruani/models_NDC_norm/NDCBASE_32//test_10.obj could not be opened...\n",
      "  File \"/tmp/ipykernel_2822356/2300923102.py\", line 3, in manifold_stat\n",
      "    v, f = igl.read_triangle_mesh(pred_obj_name)\n",
      "ValueError: File '/home/../data/nmaruani/models_NDC_norm/NDCBASE_32//test_6.obj' not found.\n",
      "ValueError: File '/home/../data/nmaruani/models_NDC_norm/NDCBASE_32//test_7.obj' not found.\n",
      "Process Process-2987:\n",
      "Traceback (most recent call last):\n",
      " 40%|███████████████████████████████████████████████████████████████▏                                                                                              | 12/30 [00:00<00:00, 25.56it/s]IOError: /home/../data/nmaruani/models_NDC_norm/NDCBASE_32//test_11.obj could not be opened...\n",
      "Process Process-2988:\n",
      "  File \"/user/nmaruani/home/.conda/envs/pytorch3d/lib/python3.9/multiprocessing/process.py\", line 315, in _bootstrap\n",
      "    self.run()\n",
      "  File \"/user/nmaruani/home/.conda/envs/pytorch3d/lib/python3.9/multiprocessing/process.py\", line 108, in run\n",
      "    self._target(*self._args, **self._kwargs)\n",
      "  File \"/tmp/ipykernel_2822356/2300923102.py\", line 3, in manifold_stat\n",
      "    v, f = igl.read_triangle_mesh(pred_obj_name)\n",
      "Process Process-2989:\n",
      "Traceback (most recent call last):\n",
      "ValueError: File '/home/../data/nmaruani/models_NDC_norm/NDCBASE_32//test_8.obj' not found.\n",
      "  File \"/user/nmaruani/home/.conda/envs/pytorch3d/lib/python3.9/multiprocessing/process.py\", line 315, in _bootstrap\n",
      "    self.run()\n",
      "Traceback (most recent call last):\n",
      "  File \"/user/nmaruani/home/.conda/envs/pytorch3d/lib/python3.9/multiprocessing/process.py\", line 108, in run\n",
      "    self._target(*self._args, **self._kwargs)\n",
      "  File \"/user/nmaruani/home/.conda/envs/pytorch3d/lib/python3.9/multiprocessing/process.py\", line 315, in _bootstrap\n",
      "    self.run()\n",
      "  File \"/tmp/ipykernel_2822356/2300923102.py\", line 3, in manifold_stat\n",
      "    v, f = igl.read_triangle_mesh(pred_obj_name)\n",
      "  File \"/user/nmaruani/home/.conda/envs/pytorch3d/lib/python3.9/multiprocessing/process.py\", line 108, in run\n",
      "    self._target(*self._args, **self._kwargs)\n",
      "ValueError: File '/home/../data/nmaruani/models_NDC_norm/NDCBASE_32//test_9.obj' not found.\n",
      "  File \"/tmp/ipykernel_2822356/2300923102.py\", line 3, in manifold_stat\n",
      "    v, f = igl.read_triangle_mesh(pred_obj_name)\n",
      "ValueError: File '/home/../data/nmaruani/models_NDC_norm/NDCBASE_32//test_10.obj' not found.\n",
      "Process Process-2990:\n",
      "Traceback (most recent call last):\n",
      "  File \"/user/nmaruani/home/.conda/envs/pytorch3d/lib/python3.9/multiprocessing/process.py\", line 315, in _bootstrap\n",
      "    self.run()\n",
      "  File \"/user/nmaruani/home/.conda/envs/pytorch3d/lib/python3.9/multiprocessing/process.py\", line 108, in run\n",
      "    self._target(*self._args, **self._kwargs)\n",
      "  File \"/tmp/ipykernel_2822356/2300923102.py\", line 3, in manifold_stat\n",
      "    v, f = igl.read_triangle_mesh(pred_obj_name)\n",
      "IOError: /home/../data/nmaruani/models_NDC_norm/NDCBASE_32//test_12.obj could not be opened...\n",
      "ValueError: File '/home/../data/nmaruani/models_NDC_norm/NDCBASE_32//test_11.obj' not found.\n",
      "Process Process-2991:\n",
      "IOError: /home/../data/nmaruani/models_NDC_norm/NDCBASE_32//test_13.obj could not be opened...\n",
      "Traceback (most recent call last):\n",
      " 50%|███████████████████████████████████████████████████████████████████████████████                                                                               | 15/30 [00:00<00:00, 25.07it/s]IOError: /home/../data/nmaruani/models_NDC_norm/NDCBASE_32//test_14.obj could not be opened...\n",
      "Process Process-2992:\n",
      "  File \"/user/nmaruani/home/.conda/envs/pytorch3d/lib/python3.9/multiprocessing/process.py\", line 315, in _bootstrap\n",
      "    self.run()\n",
      "  File \"/user/nmaruani/home/.conda/envs/pytorch3d/lib/python3.9/multiprocessing/process.py\", line 108, in run\n",
      "    self._target(*self._args, **self._kwargs)\n",
      "  File \"/tmp/ipykernel_2822356/2300923102.py\", line 3, in manifold_stat\n",
      "    v, f = igl.read_triangle_mesh(pred_obj_name)\n",
      "Process Process-2993:\n",
      "Traceback (most recent call last):\n",
      "ValueError: File '/home/../data/nmaruani/models_NDC_norm/NDCBASE_32//test_12.obj' not found.\n",
      "Traceback (most recent call last):\n",
      "  File \"/user/nmaruani/home/.conda/envs/pytorch3d/lib/python3.9/multiprocessing/process.py\", line 315, in _bootstrap\n",
      "    self.run()\n",
      "  File \"/user/nmaruani/home/.conda/envs/pytorch3d/lib/python3.9/multiprocessing/process.py\", line 315, in _bootstrap\n",
      "    self.run()\n",
      "IOError: /home/../data/nmaruani/models_NDC_norm/NDCBASE_32//test_15.obj could not be opened...\n",
      "IOError: /home/../data/nmaruani/models_NDC_norm/NDCBASE_32//test_16.obj could not be opened...\n",
      "  File \"/user/nmaruani/home/.conda/envs/pytorch3d/lib/python3.9/multiprocessing/process.py\", line 108, in run\n",
      "    self._target(*self._args, **self._kwargs)\n",
      "  File \"/user/nmaruani/home/.conda/envs/pytorch3d/lib/python3.9/multiprocessing/process.py\", line 108, in run\n",
      "    self._target(*self._args, **self._kwargs)\n",
      " 60%|██████████████████████████████████████████████████████████████████████████████████████████████▊                                                               | 18/30 [00:00<00:00, 25.26it/s]IOError: /home/../data/nmaruani/models_NDC_norm/NDCBASE_32//test_17.obj could not be opened...\n",
      "  File \"/tmp/ipykernel_2822356/2300923102.py\", line 3, in manifold_stat\n",
      "    v, f = igl.read_triangle_mesh(pred_obj_name)\n",
      "  File \"/tmp/ipykernel_2822356/2300923102.py\", line 3, in manifold_stat\n",
      "    v, f = igl.read_triangle_mesh(pred_obj_name)\n",
      "ValueError: File '/home/../data/nmaruani/models_NDC_norm/NDCBASE_32//test_13.obj' not found.\n",
      "Process Process-2994:\n",
      "ValueError: File '/home/../data/nmaruani/models_NDC_norm/NDCBASE_32//test_14.obj' not found.\n",
      "Traceback (most recent call last):\n",
      "IOError: /home/../data/nmaruani/models_NDC_norm/NDCBASE_32//test_18.obj could not be opened...\n",
      "Process Process-2995:\n",
      "  File \"/user/nmaruani/home/.conda/envs/pytorch3d/lib/python3.9/multiprocessing/process.py\", line 315, in _bootstrap\n",
      "    self.run()\n",
      "  File \"/user/nmaruani/home/.conda/envs/pytorch3d/lib/python3.9/multiprocessing/process.py\", line 108, in run\n",
      "    self._target(*self._args, **self._kwargs)\n",
      "  File \"/tmp/ipykernel_2822356/2300923102.py\", line 3, in manifold_stat\n",
      "    v, f = igl.read_triangle_mesh(pred_obj_name)\n",
      "IOError: /home/../data/nmaruani/models_NDC_norm/NDCBASE_32//test_19.obj could not be opened...\n",
      " 70%|██████████████████████████████████████████████████████████████████████████████████████████████████████████████▌                                               | 21/30 [00:00<00:00, 26.01it/s]Traceback (most recent call last):\n",
      "ValueError: File '/home/../data/nmaruani/models_NDC_norm/NDCBASE_32//test_15.obj' not found.\n",
      "  File \"/user/nmaruani/home/.conda/envs/pytorch3d/lib/python3.9/multiprocessing/process.py\", line 315, in _bootstrap\n",
      "    self.run()\n",
      "  File \"/user/nmaruani/home/.conda/envs/pytorch3d/lib/python3.9/multiprocessing/process.py\", line 108, in run\n",
      "    self._target(*self._args, **self._kwargs)\n",
      "IOError: /home/../data/nmaruani/models_NDC_norm/NDCBASE_32//test_20.obj could not be opened...\n",
      "IOError: /home/../data/nmaruani/models_NDC_norm/NDCBASE_32//test_16.obj could not be opened...\n",
      "Process Process-2996:\n",
      "  File \"/tmp/ipykernel_2822356/2300923102.py\", line 3, in manifold_stat\n",
      "    v, f = igl.read_triangle_mesh(pred_obj_name)\n",
      "ValueError: File '/home/../data/nmaruani/models_NDC_norm/NDCBASE_32//test_16.obj' not found.\n",
      "Process Process-2997:\n",
      "Traceback (most recent call last):\n",
      "  File \"/user/nmaruani/home/.conda/envs/pytorch3d/lib/python3.9/multiprocessing/process.py\", line 315, in _bootstrap\n",
      "    self.run()\n",
      "  File \"/user/nmaruani/home/.conda/envs/pytorch3d/lib/python3.9/multiprocessing/process.py\", line 108, in run\n",
      "    self._target(*self._args, **self._kwargs)\n",
      "IOError: /home/../data/nmaruani/models_NDC_norm/NDCBASE_32//test_21.obj could not be opened...\n",
      "IOError: /home/../data/nmaruani/models_NDC_norm/NDCBASE_32//test_22.obj could not be opened...\n",
      "  File \"/tmp/ipykernel_2822356/2300923102.py\", line 3, in manifold_stat\n",
      "    v, f = igl.read_triangle_mesh(pred_obj_name)\n",
      "Traceback (most recent call last):\n",
      " 80%|██████████████████████████████████████████████████████████████████████████████████████████████████████████████████████████████▍                               | 24/30 [00:00<00:00, 26.12it/s]IOError: /home/../data/nmaruani/models_NDC_norm/NDCBASE_32//test_23.obj could not be opened...\n",
      "Process Process-2998:\n",
      "ValueError: File '/home/../data/nmaruani/models_NDC_norm/NDCBASE_32//test_17.obj' not found.\n",
      "  File \"/user/nmaruani/home/.conda/envs/pytorch3d/lib/python3.9/multiprocessing/process.py\", line 315, in _bootstrap\n",
      "    self.run()\n",
      "  File \"/user/nmaruani/home/.conda/envs/pytorch3d/lib/python3.9/multiprocessing/process.py\", line 108, in run\n",
      "    self._target(*self._args, **self._kwargs)\n",
      "  File \"/tmp/ipykernel_2822356/2300923102.py\", line 3, in manifold_stat\n",
      "    v, f = igl.read_triangle_mesh(pred_obj_name)\n",
      "Traceback (most recent call last):\n",
      "ValueError: File '/home/../data/nmaruani/models_NDC_norm/NDCBASE_32//test_18.obj' not found.\n",
      "  File \"/user/nmaruani/home/.conda/envs/pytorch3d/lib/python3.9/multiprocessing/process.py\", line 315, in _bootstrap\n",
      "    self.run()\n",
      "Process Process-2999:\n",
      "  File \"/user/nmaruani/home/.conda/envs/pytorch3d/lib/python3.9/multiprocessing/process.py\", line 108, in run\n",
      "    self._target(*self._args, **self._kwargs)\n",
      "IOError: /home/../data/nmaruani/models_NDC_norm/NDCBASE_32//test_24.obj could not be opened...\n",
      "  File \"/tmp/ipykernel_2822356/2300923102.py\", line 3, in manifold_stat\n",
      "    v, f = igl.read_triangle_mesh(pred_obj_name)\n",
      "ValueError: File '/home/../data/nmaruani/models_NDC_norm/NDCBASE_32//test_19.obj' not found.\n",
      "IOError: /home/../data/nmaruani/models_NDC_norm/NDCBASE_32//test_25.obj could not be opened...\n",
      " 90%|██████████████████████████████████████████████████████████████████████████████████████████████████████████████████████████████████████████████▏               | 27/30 [00:01<00:00, 25.75it/s]Traceback (most recent call last):\n",
      "Process Process-3000:\n",
      "  File \"/user/nmaruani/home/.conda/envs/pytorch3d/lib/python3.9/multiprocessing/process.py\", line 315, in _bootstrap\n",
      "    self.run()\n",
      "  File \"/user/nmaruani/home/.conda/envs/pytorch3d/lib/python3.9/multiprocessing/process.py\", line 108, in run\n",
      "    self._target(*self._args, **self._kwargs)\n",
      "IOError: /home/../data/nmaruani/models_NDC_norm/NDCBASE_32//test_26.obj could not be opened...\n",
      "  File \"/tmp/ipykernel_2822356/2300923102.py\", line 3, in manifold_stat\n",
      "    v, f = igl.read_triangle_mesh(pred_obj_name)\n",
      "Process Process-3001:\n",
      "ValueError: File '/home/../data/nmaruani/models_NDC_norm/NDCBASE_32//test_20.obj' not found.\n",
      "Traceback (most recent call last):\n",
      "  File \"/user/nmaruani/home/.conda/envs/pytorch3d/lib/python3.9/multiprocessing/process.py\", line 315, in _bootstrap\n",
      "    self.run()\n",
      "IOError: /home/../data/nmaruani/models_NDC_norm/NDCBASE_32//test_27.obj could not be opened...\n",
      "  File \"/user/nmaruani/home/.conda/envs/pytorch3d/lib/python3.9/multiprocessing/process.py\", line 108, in run\n",
      "    self._target(*self._args, **self._kwargs)\n",
      "Process Process-3002:\n",
      "  File \"/tmp/ipykernel_2822356/2300923102.py\", line 3, in manifold_stat\n",
      "    v, f = igl.read_triangle_mesh(pred_obj_name)\n",
      "Traceback (most recent call last):\n",
      "ValueError: File '/home/../data/nmaruani/models_NDC_norm/NDCBASE_32//test_21.obj' not found.\n",
      "IOError: /home/../data/nmaruani/models_NDC_norm/NDCBASE_32//test_28.obj could not be opened...\n",
      "  File \"/user/nmaruani/home/.conda/envs/pytorch3d/lib/python3.9/multiprocessing/process.py\", line 315, in _bootstrap\n",
      "    self.run()\n",
      "Traceback (most recent call last):\n",
      "100%|██████████████████████████████████████████████████████████████████████████████████████████████████████████████████████████████████████████████████████████████| 30/30 [00:01<00:00, 25.61it/s]  File \"/user/nmaruani/home/.conda/envs/pytorch3d/lib/python3.9/multiprocessing/process.py\", line 108, in run\n",
      "    self._target(*self._args, **self._kwargs)\n",
      "  File \"/user/nmaruani/home/.conda/envs/pytorch3d/lib/python3.9/multiprocessing/process.py\", line 315, in _bootstrap\n",
      "    self.run()\n",
      "IOError: /home/../data/nmaruani/models_NDC_norm/NDCBASE_32//test_29.obj could not be opened...\n",
      "100%|██████████████████████████████████████████████████████████████████████████████████████████████████████████████████████████████████████████████████████████████| 30/30 [00:01<00:00, 25.50it/s]  File \"/tmp/ipykernel_2822356/2300923102.py\", line 3, in manifold_stat\n",
      "    v, f = igl.read_triangle_mesh(pred_obj_name)\n",
      "  File \"/user/nmaruani/home/.conda/envs/pytorch3d/lib/python3.9/multiprocessing/process.py\", line 108, in run\n",
      "    self._target(*self._args, **self._kwargs)\n",
      "ValueError: File '/home/../data/nmaruani/models_NDC_norm/NDCBASE_32//test_22.obj' not found.\n",
      "\n",
      "  File \"/tmp/ipykernel_2822356/2300923102.py\", line 3, in manifold_stat\n",
      "    v, f = igl.read_triangle_mesh(pred_obj_name)\n",
      "Process Process-3003:\n",
      "ValueError: File '/home/../data/nmaruani/models_NDC_norm/NDCBASE_32//test_23.obj' not found.\n",
      "Traceback (most recent call last):\n",
      "Process Process-3004:\n",
      "  File \"/user/nmaruani/home/.conda/envs/pytorch3d/lib/python3.9/multiprocessing/process.py\", line 315, in _bootstrap\n",
      "    self.run()\n",
      "  File \"/user/nmaruani/home/.conda/envs/pytorch3d/lib/python3.9/multiprocessing/process.py\", line 108, in run\n",
      "    self._target(*self._args, **self._kwargs)\n",
      "  File \"/tmp/ipykernel_2822356/2300923102.py\", line 3, in manifold_stat\n",
      "    v, f = igl.read_triangle_mesh(pred_obj_name)\n",
      "Traceback (most recent call last):\n",
      "ValueError: File '/home/../data/nmaruani/models_NDC_norm/NDCBASE_32//test_24.obj' not found.\n",
      "  File \"/user/nmaruani/home/.conda/envs/pytorch3d/lib/python3.9/multiprocessing/process.py\", line 315, in _bootstrap\n",
      "    self.run()\n",
      "  File \"/user/nmaruani/home/.conda/envs/pytorch3d/lib/python3.9/multiprocessing/process.py\", line 108, in run\n",
      "    self._target(*self._args, **self._kwargs)\n",
      "IOError: /home/../data/nmaruani/models_NDC_norm/NDCBASE_32//test_25.obj could not be opened...\n",
      "Process Process-3005:\n",
      "  File \"/tmp/ipykernel_2822356/2300923102.py\", line 3, in manifold_stat\n",
      "    v, f = igl.read_triangle_mesh(pred_obj_name)\n",
      "ValueError: File '/home/../data/nmaruani/models_NDC_norm/NDCBASE_32//test_25.obj' not found.\n",
      "Process Process-3006:\n",
      "Traceback (most recent call last):\n",
      "  File \"/user/nmaruani/home/.conda/envs/pytorch3d/lib/python3.9/multiprocessing/process.py\", line 315, in _bootstrap\n",
      "    self.run()\n",
      "  File \"/user/nmaruani/home/.conda/envs/pytorch3d/lib/python3.9/multiprocessing/process.py\", line 108, in run\n",
      "    self._target(*self._args, **self._kwargs)\n",
      "  File \"/tmp/ipykernel_2822356/2300923102.py\", line 3, in manifold_stat\n",
      "    v, f = igl.read_triangle_mesh(pred_obj_name)\n",
      "ValueError: File '/home/../data/nmaruani/models_NDC_norm/NDCBASE_32//test_26.obj' not found.\n",
      "Traceback (most recent call last):\n",
      "  File \"/user/nmaruani/home/.conda/envs/pytorch3d/lib/python3.9/multiprocessing/process.py\", line 315, in _bootstrap\n",
      "    self.run()\n",
      "Process Process-3007:\n",
      "  File \"/user/nmaruani/home/.conda/envs/pytorch3d/lib/python3.9/multiprocessing/process.py\", line 108, in run\n",
      "    self._target(*self._args, **self._kwargs)\n",
      "  File \"/tmp/ipykernel_2822356/2300923102.py\", line 3, in manifold_stat\n",
      "    v, f = igl.read_triangle_mesh(pred_obj_name)\n",
      "ValueError: File '/home/../data/nmaruani/models_NDC_norm/NDCBASE_32//test_27.obj' not found.\n",
      "Traceback (most recent call last):\n",
      "  File \"/user/nmaruani/home/.conda/envs/pytorch3d/lib/python3.9/multiprocessing/process.py\", line 315, in _bootstrap\n",
      "    self.run()\n",
      "  File \"/user/nmaruani/home/.conda/envs/pytorch3d/lib/python3.9/multiprocessing/process.py\", line 108, in run\n",
      "    self._target(*self._args, **self._kwargs)\n",
      "Process Process-3008:\n",
      "  File \"/tmp/ipykernel_2822356/2300923102.py\", line 3, in manifold_stat\n",
      "    v, f = igl.read_triangle_mesh(pred_obj_name)\n",
      "ValueError: File '/home/../data/nmaruani/models_NDC_norm/NDCBASE_32//test_28.obj' not found.\n",
      "Traceback (most recent call last):\n",
      "  File \"/user/nmaruani/home/.conda/envs/pytorch3d/lib/python3.9/multiprocessing/process.py\", line 315, in _bootstrap\n",
      "    self.run()\n",
      "  File \"/user/nmaruani/home/.conda/envs/pytorch3d/lib/python3.9/multiprocessing/process.py\", line 108, in run\n",
      "    self._target(*self._args, **self._kwargs)\n",
      "  File \"/tmp/ipykernel_2822356/2300923102.py\", line 3, in manifold_stat\n",
      "    v, f = igl.read_triangle_mesh(pred_obj_name)\n",
      "ValueError: File '/home/../data/nmaruani/models_NDC_norm/NDCBASE_32//test_29.obj' not found.\n"
     ]
    }
   ],
   "source": [
    "processes = []\n",
    "for idx in tqdm(range(len(obj_names))):\n",
    "    pred_obj_name = pred_dir + \"test_\" + str(idx) + \".obj\"\n",
    "    p = Process(target=manifold_stat, args=(pred_obj_name,))\n",
    "    processes.append(p)\n",
    "    p.start()\n",
    "    \n",
    "for process in processes:\n",
    "    process.join()"
   ]
  },
  {
   "cell_type": "code",
   "execution_count": 133,
   "metadata": {},
   "outputs": [],
   "source": [
    "src_dir = '/home/../data/nmaruani/models_NDC_norm/ours_32_NDC_norm/'\n",
    "names = os.listdir(src_dir)"
   ]
  },
  {
   "attachments": {},
   "cell_type": "markdown",
   "metadata": {},
   "source": [
    "### Thingi32"
   ]
  },
  {
   "cell_type": "code",
   "execution_count": 265,
   "metadata": {},
   "outputs": [],
   "source": [
    "# grid_size=64\n",
    "\n",
    "pred_dir = \"/home/../data/nmaruani/models_NDC_norm/RC_128/\".format(grid_size if grid_size==32 else '')\n",
    "all_models = \"./watertight_thingi32_obj_list.txt\"\n",
    "\n",
    "\n",
    "fin = open(all_models, 'r')\n",
    "obj_names = [name.strip() for name in fin.readlines()]\n",
    "fin.close()"
   ]
  },
  {
   "cell_type": "code",
   "execution_count": 266,
   "metadata": {},
   "outputs": [],
   "source": [
    "NF=0"
   ]
  },
  {
   "cell_type": "code",
   "execution_count": 267,
   "metadata": {},
   "outputs": [
    {
     "name": "stderr",
     "output_type": "stream",
     "text": [
      "  0%|                                                                                                                                                                       | 0/30 [00:00<?, ?it/s]Warning: readOBJ() ignored non-comment line 1:\n",
      "  o /home/../data/nmaruani/models_NDC_norm/RC_128/398259.obj \n",
      "  3%|█████▎                                                                                                                                                         | 1/30 [00:01<00:54,  1.86s/it]Warning: readOBJ() ignored non-comment line 1:\n",
      "  o /home/../data/nmaruani/models_NDC_norm/RC_128/75665.obj \n",
      "  7%|██████████▌                                                                                                                                                    | 2/30 [00:03<00:45,  1.62s/it]Warning: readOBJ() ignored non-comment line 1:\n",
      "  o /home/../data/nmaruani/models_NDC_norm/RC_128/79241.obj \n",
      " 10%|███████████████▉                                                                                                                                               | 3/30 [00:04<00:44,  1.65s/it]Warning: readOBJ() ignored non-comment line 1:\n",
      "  o /home/../data/nmaruani/models_NDC_norm/RC_128/77245.obj \n",
      " 13%|█████████████████████▏                                                                                                                                         | 4/30 [00:06<00:43,  1.66s/it]Warning: readOBJ() ignored non-comment line 1:\n",
      "  o /home/../data/nmaruani/models_NDC_norm/RC_128/78671.obj \n",
      " 17%|██████████████████████████▌                                                                                                                                    | 5/30 [00:07<00:35,  1.42s/it]Warning: readOBJ() ignored non-comment line 1:\n",
      "  o /home/../data/nmaruani/models_NDC_norm/RC_128/92880.obj \n",
      " 20%|███████████████████████████████▊                                                                                                                               | 6/30 [00:08<00:31,  1.32s/it]Warning: readOBJ() ignored non-comment line 1:\n",
      "  o /home/../data/nmaruani/models_NDC_norm/RC_128/64444.obj \n",
      " 23%|█████████████████████████████████████                                                                                                                          | 7/30 [00:10<00:31,  1.36s/it]Warning: readOBJ() ignored non-comment line 1:\n",
      "  o /home/../data/nmaruani/models_NDC_norm/RC_128/75655.obj \n",
      " 27%|██████████████████████████████████████████▍                                                                                                                    | 8/30 [00:11<00:29,  1.32s/it]Warning: readOBJ() ignored non-comment line 1:\n",
      "  o /home/../data/nmaruani/models_NDC_norm/RC_128/527631.obj \n",
      " 30%|███████████████████████████████████████████████▋                                                                                                               | 9/30 [00:13<00:34,  1.63s/it]Warning: readOBJ() ignored non-comment line 1:\n",
      "  o /home/../data/nmaruani/models_NDC_norm/RC_128/72870.obj \n",
      " 33%|████████████████████████████████████████████████████▋                                                                                                         | 10/30 [00:15<00:31,  1.57s/it]Warning: readOBJ() ignored non-comment line 1:\n",
      "  o /home/../data/nmaruani/models_NDC_norm/RC_128/68381.obj \n",
      " 37%|█████████████████████████████████████████████████████████▉                                                                                                    | 11/30 [00:16<00:29,  1.56s/it]Warning: readOBJ() ignored non-comment line 1:\n",
      "  o /home/../data/nmaruani/models_NDC_norm/RC_128/75662.obj \n",
      " 40%|███████████████████████████████████████████████████████████████▏                                                                                              | 12/30 [00:18<00:28,  1.57s/it]Warning: readOBJ() ignored non-comment line 1:\n",
      "  o /home/../data/nmaruani/models_NDC_norm/RC_128/68380.obj \n",
      " 43%|████████████████████████████████████████████████████████████████████▍                                                                                         | 13/30 [00:20<00:27,  1.62s/it]Warning: readOBJ() ignored non-comment line 1:\n",
      "  o /home/../data/nmaruani/models_NDC_norm/RC_128/75496.obj \n",
      " 47%|█████████████████████████████████████████████████████████████████████████▋                                                                                    | 14/30 [00:21<00:24,  1.55s/it]Warning: readOBJ() ignored non-comment line 1:\n",
      "  o /home/../data/nmaruani/models_NDC_norm/RC_128/316358.obj \n",
      " 50%|███████████████████████████████████████████████████████████████████████████████                                                                               | 15/30 [00:23<00:24,  1.61s/it]Warning: readOBJ() ignored non-comment line 1:\n",
      "  o /home/../data/nmaruani/models_NDC_norm/RC_128/53159.obj \n",
      " 53%|████████████████████████████████████████████████████████████████████████████████████▎                                                                         | 16/30 [00:24<00:22,  1.63s/it]Warning: readOBJ() ignored non-comment line 1:\n",
      "  o /home/../data/nmaruani/models_NDC_norm/RC_128/354371.obj \n",
      " 57%|█████████████████████████████████████████████████████████████████████████████████████████▌                                                                    | 17/30 [00:26<00:21,  1.67s/it]Warning: readOBJ() ignored non-comment line 1:\n",
      "  o /home/../data/nmaruani/models_NDC_norm/RC_128/64764.obj \n",
      " 60%|██████████████████████████████████████████████████████████████████████████████████████████████▊                                                               | 18/30 [00:28<00:21,  1.83s/it]Warning: readOBJ() ignored non-comment line 1:\n",
      "  o /home/../data/nmaruani/models_NDC_norm/RC_128/72960.obj \n",
      " 63%|████████████████████████████████████████████████████████████████████████████████████████████████████                                                          | 19/30 [00:30<00:20,  1.91s/it]Warning: readOBJ() ignored non-comment line 1:\n",
      "  o /home/../data/nmaruani/models_NDC_norm/RC_128/92763.obj \n",
      " 67%|█████████████████████████████████████████████████████████████████████████████████████████████████████████▎                                                    | 20/30 [00:32<00:17,  1.77s/it]Warning: readOBJ() ignored non-comment line 1:\n",
      "  o /home/../data/nmaruani/models_NDC_norm/RC_128/441708.obj \n",
      " 70%|██████████████████████████████████████████████████████████████████████████████████████████████████████████████▌                                               | 21/30 [00:33<00:15,  1.71s/it]Warning: readOBJ() ignored non-comment line 1:\n",
      "  o /home/../data/nmaruani/models_NDC_norm/RC_128/47984.obj \n",
      " 73%|███████████████████████████████████████████████████████████████████████████████████████████████████████████████████▊                                          | 22/30 [00:35<00:12,  1.56s/it]Warning: readOBJ() ignored non-comment line 1:\n",
      "  o /home/../data/nmaruani/models_NDC_norm/RC_128/73075.obj \n",
      " 77%|█████████████████████████████████████████████████████████████████████████████████████████████████████████████████████████▏                                    | 23/30 [00:35<00:09,  1.32s/it]Warning: readOBJ() ignored non-comment line 1:\n",
      "  o /home/../data/nmaruani/models_NDC_norm/RC_128/76277.obj \n",
      " 80%|██████████████████████████████████████████████████████████████████████████████████████████████████████████████████████████████▍                               | 24/30 [00:37<00:08,  1.38s/it]Warning: readOBJ() ignored non-comment line 1:\n",
      "  o /home/../data/nmaruani/models_NDC_norm/RC_128/44234.obj \n",
      " 83%|███████████████████████████████████████████████████████████████████████████████████████████████████████████████████████████████████▋                          | 25/30 [00:39<00:07,  1.43s/it]Warning: readOBJ() ignored non-comment line 1:\n",
      "  o /home/../data/nmaruani/models_NDC_norm/RC_128/75656.obj \n",
      " 87%|████████████████████████████████████████████████████████████████████████████████████████████████████████████████████████████████████████▉                     | 26/30 [00:40<00:05,  1.39s/it]Warning: readOBJ() ignored non-comment line 1:\n",
      "  o /home/../data/nmaruani/models_NDC_norm/RC_128/95444.obj \n",
      " 90%|██████████████████████████████████████████████████████████████████████████████████████████████████████████████████████████████████████████████▏               | 27/30 [00:41<00:04,  1.38s/it]Warning: readOBJ() ignored non-comment line 1:\n",
      "  o /home/../data/nmaruani/models_NDC_norm/RC_128/252119.obj \n",
      " 93%|███████████████████████████████████████████████████████████████████████████████████████████████████████████████████████████████████████████████████▍          | 28/30 [00:42<00:02,  1.27s/it]Warning: readOBJ() ignored non-comment line 1:\n",
      "  o /home/../data/nmaruani/models_NDC_norm/RC_128/90889.obj \n",
      " 97%|████████████████████████████████████████████████████████████████████████████████████████████████████████████████████████████████████████████████████████▋     | 29/30 [00:44<00:01,  1.43s/it]Warning: readOBJ() ignored non-comment line 1:\n",
      "  o /home/../data/nmaruani/models_NDC_norm/RC_128/313444.obj \n",
      "100%|██████████████████████████████████████████████████████████████████████████████████████████████████████████████████████████████████████████████████████████████| 30/30 [00:46<00:00,  1.54s/it]\n"
     ]
    }
   ],
   "source": [
    "processes = []\n",
    "for name in tqdm(obj_names):\n",
    "    pred_obj_name = pred_dir + name +'.obj'\n",
    "    manifold_stat(pred_obj_name)\n",
    "\n",
    "#     p = Process(target=manifold_stat, args=(pred_obj_name,))\n",
    "#     processes.append(p)\n",
    "#     p.start()\n",
    "    \n",
    "    \n",
    "# for process in processes:\n",
    "#     process.join()"
   ]
  },
  {
   "cell_type": "code",
   "execution_count": 269,
   "metadata": {},
   "outputs": [
    {
     "data": {
      "text/plain": [
       "0"
      ]
     },
     "execution_count": 269,
     "metadata": {},
     "output_type": "execute_result"
    }
   ],
   "source": [
    "NF"
   ]
  },
  {
   "cell_type": "code",
   "execution_count": null,
   "metadata": {},
   "outputs": [],
   "source": []
  }
 ],
 "metadata": {
  "kernelspec": {
   "display_name": "Python 3 (ipykernel)",
   "language": "python",
   "name": "python3"
  },
  "language_info": {
   "codemirror_mode": {
    "name": "ipython",
    "version": 3
   },
   "file_extension": ".py",
   "mimetype": "text/x-python",
   "name": "python",
   "nbconvert_exporter": "python",
   "pygments_lexer": "ipython3",
   "version": "3.9.16"
  },
  "orig_nbformat": 4
 },
 "nbformat": 4,
 "nbformat_minor": 2
}
