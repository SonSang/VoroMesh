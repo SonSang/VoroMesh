{
 "cells": [
  {
   "cell_type": "code",
   "execution_count": 2,
   "metadata": {},
   "outputs": [],
   "source": [
    "from single_voromesh import create_voromesh\n",
    "from meshplot import plot\n",
    "import numpy as np"
   ]
  },
  {
   "cell_type": "code",
   "execution_count": 3,
   "metadata": {},
   "outputs": [
    {
     "name": "stdout",
     "output_type": "stream",
     "text": [
      "WARNING: CGAL voromesh not found, using scipy mesh extraction with NO WATERTIGHTNESS GUARANTEES. Please compile cpp_utils.\n"
     ]
    }
   ],
   "source": [
    "from time import time\n",
    "from single_voromesh import create_voromesh, DEFAULTS\n",
    "import os\n",
    "from tqdm import tqdm\n",
    "import torch\n",
    "import utils.mesh_tools as mt\n",
    "\n",
    "src_dir = '../data/Thingi32/obj/'  # Thingi32 is stored\n",
    "device = 'cuda' if torch.cuda.is_available() else 'cpu'\n",
    "cpp_compiled = os.path.isfile('src/cpp_utils/build/')\n",
    "if not (cpp_compiled):\n",
    "    print('WARNING: CGAL voromesh not found, using scipy mesh extraction with NO WATERTIGHTNESS GUARANTEES. Please compile cpp_utils.')\n",
    "\n",
    "grid_n = 32  \n",
    "T0 = time()\n",
    "opt_time = 0\n",
    "\n",
    "\n",
    "v, f, samples = mt.load_and_sample_shape(\n",
    "    '441708.obj', src_dir, DEFAULTS[\"samples_fac\"]*grid_n**2, rescale_f='NDC')\n",
    "V, t0 = create_voromesh(samples, v, f, grid_n, return_time=True)\n"
   ]
  },
  {
   "cell_type": "code",
   "execution_count": 1,
   "metadata": {},
   "outputs": [],
   "source": [
    "import sys\n",
    "sys.path.append(\"./cpp_utils_new/build/\")\n",
    "from VoroMeshUtils import compute_voromesh, self_intersect"
   ]
  },
  {
   "cell_type": "code",
   "execution_count": 9,
   "metadata": {},
   "outputs": [],
   "source": [
    "V.clean_useless_generators()"
   ]
  },
  {
   "cell_type": "code",
   "execution_count": 10,
   "metadata": {},
   "outputs": [
    {
     "data": {
      "text/plain": [
       "tensor([[-0.6166, -0.1852,  0.0725],\n",
       "        [-0.6213, -0.1805,  0.0890],\n",
       "        [-0.6278, -0.1593,  0.0503],\n",
       "        ...,\n",
       "        [ 0.6158, -0.1372, -0.4098],\n",
       "        [ 0.6271, -0.1337, -0.3854],\n",
       "        [ 0.6195, -0.1339, -0.3383]], dtype=torch.float64,\n",
       "       grad_fn=<ToCopyBackward0>)"
      ]
     },
     "execution_count": 10,
     "metadata": {},
     "output_type": "execute_result"
    }
   ],
   "source": [
    "V.points.cpu().double()"
   ]
  },
  {
   "cell_type": "code",
   "execution_count": 7,
   "metadata": {},
   "outputs": [],
   "source": [
    "double_points = V.points.cpu().double().detach().numpy()\n",
    "double_points += np.random.randn(*double_points.shape) * 1e-100\n",
    "voro_v, voro_f = compute_voromesh(double_points, V.values.cpu().double().detach().numpy())"
   ]
  },
  {
   "cell_type": "code",
   "execution_count": 8,
   "metadata": {},
   "outputs": [],
   "source": [
    "mt.export_obj(voro_v, voro_f, 'bunny')"
   ]
  },
  {
   "cell_type": "code",
   "execution_count": 19,
   "metadata": {},
   "outputs": [
    {
     "name": "stdout",
     "output_type": "stream",
     "text": [
      "252119.obj 152\n",
      "313444.obj 275\n",
      "316358.obj 544\n",
      "354371.obj 205\n",
      "398259.obj 426\n",
      "441708.obj 170\n",
      "44234.obj 367\n",
      "47984.obj 149\n",
      "527631.obj 107\n",
      "53159.obj 456\n",
      "58168.obj 383\n",
      "64444.obj 35\n",
      "64764.obj 374\n",
      "68380.obj 221\n",
      "68381.obj 571\n",
      "72870.obj 167\n",
      "72960.obj 339\n",
      "73075.obj 150\n",
      "75496.obj 474\n",
      "75655.obj 63\n",
      "75656.obj 196\n",
      "75662.obj 248\n",
      "75665.obj 235\n",
      "76277.obj 183\n",
      "77245.obj 203\n",
      "78671.obj 174\n",
      "79241.obj 275\n",
      "90889.obj 298\n",
      "92763.obj 117\n",
      "92880.obj 377\n",
      "95444.obj 114\n",
      "96481.obj 18\n"
     ]
    }
   ],
   "source": [
    "src_dir = \"/home/../data/nmaruani/RESULTS/models_NDC_norm/NMC32b/\"\n",
    "for model_name in os.listdir(src_dir):\n",
    "    print(model_name, self_intersect(src_dir+model_name))"
   ]
  },
  {
   "cell_type": "code",
   "execution_count": null,
   "metadata": {},
   "outputs": [],
   "source": []
  }
 ],
 "metadata": {
  "kernelspec": {
   "display_name": "pytorch3d",
   "language": "python",
   "name": "python3"
  },
  "language_info": {
   "codemirror_mode": {
    "name": "ipython",
    "version": 3
   },
   "file_extension": ".py",
   "mimetype": "text/x-python",
   "name": "python",
   "nbconvert_exporter": "python",
   "pygments_lexer": "ipython3",
   "version": "3.9.16"
  },
  "orig_nbformat": 4
 },
 "nbformat": 4,
 "nbformat_minor": 2
}
